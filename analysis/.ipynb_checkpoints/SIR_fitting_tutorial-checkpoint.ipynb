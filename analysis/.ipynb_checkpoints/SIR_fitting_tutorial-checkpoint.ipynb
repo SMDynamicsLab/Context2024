{
 "cells": [
  {
   "cell_type": "markdown",
   "metadata": {},
   "source": [
    "# Fitting the SIR model to data"
   ]
  },
  {
   "cell_type": "markdown",
   "metadata": {},
   "source": [
    "Tutorial: how to find the best parameter values of a differential equation by fitting to time series data.\n",
    "\n",
    "1. Define model and solver.  \n",
    "2. Define a \"distance\" function between real and simulated data (euclidean distance between real time series and  simulated time series).  \n",
    "3. Show some distances for a couple of selected parameter values.  \n",
    "4. The distance landscape: \"brute force\" to show there is a best parameter value.  \n",
    "5. Optimization: one parameter.  \n",
    "    5.1. Local optimization.  \n",
    "    5.2. Global optimization.  \n",
    "6. Optimization: two parameters.  \n",
    "    6.1. Distance landscape as a function of two parameters.  \n",
    "    6.2. Actual 2D optimization."
   ]
  },
  {
   "cell_type": "code",
   "execution_count": 2,
   "metadata": {},
   "outputs": [],
   "source": [
    "import numpy as np\n",
    "from scipy.optimize import minimize\n",
    "from scipy.optimize import basinhopping\n",
    "from scipy.optimize import differential_evolution\n",
    "from scipy.optimize import dual_annealing\n",
    "from time import perf_counter\n",
    "import pandas as pd\n",
    "import matplotlib.pyplot as plt\n",
    "from matplotlib import cm\n",
    "from mpl_toolkits import mplot3d\n",
    "from plotnine import *"
   ]
  },
  {
   "cell_type": "code",
   "execution_count": 3,
   "metadata": {},
   "outputs": [],
   "source": [
    "# concatenate arrays to dataframe\n",
    "def arr2df(m,cols):\n",
    "    return pd.DataFrame(data=np.vstack(m), columns=cols)"
   ]
  },
  {
   "cell_type": "code",
   "execution_count": 4,
   "metadata": {},
   "outputs": [],
   "source": [
    "# concatenate arrays to dataframe\n",
    "def timeseries2df(t,y,cols):\n",
    "    return pd.DataFrame(data=np.concatenate((t[:, np.newaxis], y), axis=1), columns=cols)"
   ]
  },
  {
   "cell_type": "markdown",
   "metadata": {},
   "source": [
    "## 1. Model and solver"
   ]
  },
  {
   "cell_type": "code",
   "execution_count": 57,
   "metadata": {},
   "outputs": [],
   "source": [
    "# Parameter default values\n",
    "N = 1\n",
    "mu = 0\n",
    "beta = .5\n",
    "gamma = 0.1\n",
    "params = [N, mu, beta, gamma]\n",
    "\n",
    "# Model: differential equations\n",
    "def SIR_model(y, params):\n",
    "    S, I, R = y\n",
    "    N, mu, beta, gamma = params\n",
    "    dSdt = mu * (N - S) - beta * S * I/N\n",
    "    dIdt = beta * S * I/N - (mu + gamma) * I\n",
    "    dRdt = gamma * I - mu * R\n",
    "    return np.asarray([dSdt, dIdt, dRdt])\n",
    "\n",
    "# Solver: Runge-Kutta 4(5) method (FIXED time step dt)\n",
    "def rk4_step(model, y, dt, params):\n",
    "    k1 = model(y, params)*dt\n",
    "    k2 = model(y + k1*0.5, params)*dt\n",
    "    k3 = model(y + k2*0.5, params)*dt\n",
    "    k4 = model(y + k3, params)*dt\n",
    "    return y + (k1 + 2*k2 + 2*k3 + k4)/6\n",
    "\n",
    "# Wrapper\n",
    "def integrate(model, y_ini, params, solver):\n",
    "    t = np.arange(t_span[0], t_span[-1], dt)\n",
    "    # number of time steps\n",
    "    n_steps = len(t)\n",
    "    # number of variables\n",
    "    n_vars = len(y_ini)\n",
    "    y = np.empty((n_steps, n_vars))\n",
    "    y[:] = np.NaN\n",
    "    # initial condition should be the first value returned\n",
    "    y[0,:] = y_ini\n",
    "    for i in range(0, n_steps-1):\n",
    "        y[i+1,:] = solver(model, y[i,:], dt, params)\n",
    "    return [t, y]\n"
   ]
  },
  {
   "cell_type": "markdown",
   "metadata": {},
   "source": [
    "## 2. Distance function"
   ]
  },
  {
   "cell_type": "markdown",
   "metadata": {},
   "source": [
    "We choose a very simple distance. Let  \n",
    "$D_n$ = value of the real data time series at time $t_n$  \n",
    "$S_n$ = value of the simulated time series at time $t_n$  \n",
    "$[t_1; t_N]$ = time span\n",
    "\n",
    "Then the distance between $data$ and $sim$ is  \n",
    "$\\displaystyle dist = \\sqrt{\\sum_{n=1}^N{(D_n - S_n)^2}}$\n",
    "\n",
    "(this might be interpreted either as the square root of the sum of squared residuals or as an actual euclidean distance between two points $D$ and $S$ in N-dimensional space)."
   ]
  },
  {
   "cell_type": "code",
   "execution_count": 58,
   "metadata": {},
   "outputs": [],
   "source": [
    "# Distance function: euclidean distance between a provided data time series and a model simulation.\n",
    "# Must be scalar but fit_par can be an array.\n",
    "\n",
    "def dist_fun(fit_par, data, model, params, y_ini, solver):\n",
    "    # fit_par is the parameter to be varied (can be a list)\n",
    "\n",
    "    # replace the corresponding value in params by fit_par\n",
    "    # (with workaround to fix that \"minimize\" turns a scalar parameter into an array of len=1\n",
    "    # but our functions don't)\n",
    "    if np.isscalar(fit_par):\n",
    "        fit_par = np.asarray([fit_par])\n",
    "    else:\n",
    "        if len(fit_par)>1:\n",
    "            params[3] = fit_par[1]\n",
    "    params[2] = fit_par[0]\n",
    "\n",
    "    # simulate model\n",
    "    t, sim_series = integrate(model, y_ini, params, solver)\n",
    "\n",
    "    # euclidean distance between data and simulated (number of infected individuals I)\n",
    "    # https://stackoverflow.com/questions/1401712/how-can-the-euclidean-distance-be-calculated-with-numpy\n",
    "    dist = np.linalg.norm(data-sim_series[:,1])\n",
    "\n",
    "    # history of parameter and distance values\n",
    "    dist_history.append([*fit_par, dist])\n",
    "    return dist\n"
   ]
  },
  {
   "cell_type": "markdown",
   "metadata": {},
   "source": [
    "## 3. Some examples"
   ]
  },
  {
   "cell_type": "markdown",
   "metadata": {},
   "source": [
    "### 3.1. Synthetic data"
   ]
  },
  {
   "cell_type": "markdown",
   "metadata": {},
   "source": [
    "We use a noisy simulation as a proxy for \"real\" data:"
   ]
  },
  {
   "cell_type": "code",
   "execution_count": 59,
   "metadata": {},
   "outputs": [],
   "source": [
    "# \"Real data\" = simulation + noise\n",
    "# Parameter values are the default\n",
    "\n",
    "S_start, I_start, R_start = .9, .1, 0.0\n",
    "y_ini = [S_start, I_start, R_start]\n",
    "t_span = [0, 80]\n",
    "dt = 1 # large dt in order to speed up the simulations\n",
    "\n",
    "t, y = integrate(SIR_model, y_ini, params, rk4_step)\n",
    "# add noise\n",
    "#y = y + np.random.normal(0, 0.0001, len(y[0,:]))\n",
    "y = y + np.random.normal(0, 0.0001, y.shape)\n",
    "y[y<0] = 0   # make sure y is not negative\n",
    "\n",
    "# array to pandas\n",
    "real_data = timeseries2df(t,y,(\"time\",\"S\",\"I\",\"R\"))\n",
    "real_data['beta'] = \"1. Real\"\n"
   ]
  },
  {
   "cell_type": "code",
   "execution_count": 60,
   "metadata": {},
   "outputs": [
    {
     "data": {
      "text/plain": [
       "array([8.99917743e-01, 7.74784914e-01, 5.80111216e-01, 3.65106225e-01,\n",
       "       1.99683433e-01, 1.02361973e-01, 5.21992868e-02, 2.73879927e-02,\n",
       "       1.50607362e-02, 8.75070351e-03, 5.17098786e-03, 3.28034736e-03,\n",
       "       2.20852190e-03, 1.51180047e-03, 1.17301204e-03, 7.84816712e-04,\n",
       "       5.22682039e-04, 5.24296371e-04, 2.53996757e-04, 2.70901991e-04,\n",
       "       1.44576414e-04, 2.50258087e-04, 9.33506293e-05, 2.31730651e-04,\n",
       "       2.16410125e-04, 2.68106708e-04, 1.86032455e-04, 4.75581814e-05,\n",
       "       1.61326760e-04, 1.22382962e-04, 1.04605515e-04, 5.36182951e-05,\n",
       "       0.00000000e+00, 0.00000000e+00, 1.72344505e-04, 0.00000000e+00,\n",
       "       9.25368863e-05, 9.44761807e-05, 3.95397018e-05, 0.00000000e+00,\n",
       "       2.67987757e-05, 1.07569908e-04, 1.42326343e-04, 7.60063155e-05,\n",
       "       6.62134257e-05, 0.00000000e+00, 6.80467299e-05, 0.00000000e+00,\n",
       "       1.19651429e-04, 0.00000000e+00, 1.02439744e-04, 1.27384283e-05,\n",
       "       1.29608512e-05, 1.27437443e-04, 0.00000000e+00, 8.62508604e-05,\n",
       "       3.22200687e-05, 1.63963552e-04, 0.00000000e+00, 9.87390462e-05,\n",
       "       0.00000000e+00, 1.15443221e-04, 1.27786201e-04, 0.00000000e+00,\n",
       "       9.04697942e-05, 0.00000000e+00, 6.64749501e-05, 0.00000000e+00,\n",
       "       6.93869462e-05, 1.69483843e-04, 4.52465209e-05, 1.76822738e-04,\n",
       "       2.70912218e-05, 0.00000000e+00, 2.14582314e-05, 0.00000000e+00,\n",
       "       3.85623998e-05, 0.00000000e+00, 6.15834815e-05, 1.65965705e-04])"
      ]
     },
     "execution_count": 60,
     "metadata": {},
     "output_type": "execute_result"
    }
   ],
   "source": [
    "y[:,0]"
   ]
  },
  {
   "cell_type": "code",
   "execution_count": 61,
   "metadata": {},
   "outputs": [
    {
     "data": {
      "text/plain": [
       "<matplotlib.legend.Legend at 0x1706808b0>"
      ]
     },
     "execution_count": 61,
     "metadata": {},
     "output_type": "execute_result"
    },
    {
     "data": {
      "image/png": "[encoded data removed]",
      "text/plain": [
       "<Figure size 864x720 with 1 Axes>"
      ]
     },
     "metadata": {
      "needs_background": "light"
     },
     "output_type": "display_data"
    }
   ],
   "source": [
    "fig = plt.figure()\n",
    "fig.set_size_inches(12, 10, forward=True)\n",
    "ax1 = fig.add_subplot(1, 1, 1)\n",
    "ax1.plot(y[:,0], '-r', label='S')\n",
    "ax1.plot(y[:,1], '-b', label='I')\n",
    "ax1.plot(y[:,2], '-k', label='R')\n",
    "ax1.set_xlabel(\"time\")\n",
    "ax1.set_ylabel(\"S, I, R\")\n",
    "ax1.legend()"
   ]
  },
  {
   "cell_type": "markdown",
   "metadata": {},
   "source": [
    "### 3.2. Simulated data for a couple of beta values"
   ]
  },
  {
   "cell_type": "code",
   "execution_count": 72,
   "metadata": {},
   "outputs": [],
   "source": [
    "# Simulation: small beta\n",
    "beta = 2\n",
    "params = [N, mu, beta, gamma]\n",
    "t, y = integrate(SIR_model, y_ini, params, rk4_step)\n",
    "simul_data_small_beta = timeseries2df(t,y,(\"time\",\"S\",\"I\",\"R\"))\n",
    "simul_data_small_beta['beta'] = \"2. >Beta\"\n",
    "\n",
    "# Simulation: equal beta\n",
    "beta = .5\n",
    "gamma = .3\n",
    "params = [N, mu, beta, gamma]\n",
    "t, y = integrate(SIR_model, y_ini, params, rk4_step)\n",
    "simul_data_equal_beta = timeseries2df(t,y,(\"time\",\"S\",\"I\",\"R\"))\n",
    "simul_data_equal_beta['beta'] = \"4. >gamma\"\n",
    "\n",
    "# Simulation: large beta\n",
    "gamma = .1\n",
    "mu = .1\n",
    "params = [N, mu, beta, gamma]\n",
    "t, y = integrate(SIR_model, y_ini, params, rk4_step)\n",
    "simul_data_large_beta = timeseries2df(t,y,(\"time\",\"S\",\"I\",\"R\"))\n",
    "simul_data_large_beta['beta'] = \"3. >mu\"\n",
    "\n",
    "data_df = pd.concat([real_data, simul_data_small_beta, simul_data_equal_beta, simul_data_large_beta])"
   ]
  },
  {
   "cell_type": "code",
   "execution_count": 73,
   "metadata": {},
   "outputs": [
    {
     "data": {
      "text/html": [
       "<div>\n",
       "<style scoped>\n",
       "    .dataframe tbody tr th:only-of-type {\n",
       "        vertical-align: middle;\n",
       "    }\n",
       "\n",
       "    .dataframe tbody tr th {\n",
       "        vertical-align: top;\n",
       "    }\n",
       "\n",
       "    .dataframe thead th {\n",
       "        text-align: right;\n",
       "    }\n",
       "</style>\n",
       "<table border=\"1\" class=\"dataframe\">\n",
       "  <thead>\n",
       "    <tr style=\"text-align: right;\">\n",
       "      <th></th>\n",
       "      <th>time</th>\n",
       "      <th>S</th>\n",
       "      <th>I</th>\n",
       "      <th>R</th>\n",
       "      <th>beta</th>\n",
       "    </tr>\n",
       "  </thead>\n",
       "  <tbody>\n",
       "    <tr>\n",
       "      <th>0</th>\n",
       "      <td>0.0</td>\n",
       "      <td>0.899918</td>\n",
       "      <td>0.099911</td>\n",
       "      <td>0.000085</td>\n",
       "      <td>1. Real</td>\n",
       "    </tr>\n",
       "    <tr>\n",
       "      <th>1</th>\n",
       "      <td>1.0</td>\n",
       "      <td>0.774785</td>\n",
       "      <td>0.210153</td>\n",
       "      <td>0.014903</td>\n",
       "      <td>1. Real</td>\n",
       "    </tr>\n",
       "    <tr>\n",
       "      <th>2</th>\n",
       "      <td>2.0</td>\n",
       "      <td>0.580111</td>\n",
       "      <td>0.376023</td>\n",
       "      <td>0.043994</td>\n",
       "      <td>1. Real</td>\n",
       "    </tr>\n",
       "    <tr>\n",
       "      <th>3</th>\n",
       "      <td>3.0</td>\n",
       "      <td>0.365106</td>\n",
       "      <td>0.544973</td>\n",
       "      <td>0.090300</td>\n",
       "      <td>1. Real</td>\n",
       "    </tr>\n",
       "    <tr>\n",
       "      <th>4</th>\n",
       "      <td>4.0</td>\n",
       "      <td>0.199683</td>\n",
       "      <td>0.649799</td>\n",
       "      <td>0.150570</td>\n",
       "      <td>1. Real</td>\n",
       "    </tr>\n",
       "    <tr>\n",
       "      <th>...</th>\n",
       "      <td>...</td>\n",
       "      <td>...</td>\n",
       "      <td>...</td>\n",
       "      <td>...</td>\n",
       "      <td>...</td>\n",
       "    </tr>\n",
       "    <tr>\n",
       "      <th>75</th>\n",
       "      <td>75.0</td>\n",
       "      <td>0.399957</td>\n",
       "      <td>0.300035</td>\n",
       "      <td>0.300007</td>\n",
       "      <td>3. &gt;mu</td>\n",
       "    </tr>\n",
       "    <tr>\n",
       "      <th>76</th>\n",
       "      <td>76.0</td>\n",
       "      <td>0.399961</td>\n",
       "      <td>0.300029</td>\n",
       "      <td>0.300010</td>\n",
       "      <td>3. &gt;mu</td>\n",
       "    </tr>\n",
       "    <tr>\n",
       "      <th>77</th>\n",
       "      <td>77.0</td>\n",
       "      <td>0.399965</td>\n",
       "      <td>0.300024</td>\n",
       "      <td>0.300011</td>\n",
       "      <td>3. &gt;mu</td>\n",
       "    </tr>\n",
       "    <tr>\n",
       "      <th>78</th>\n",
       "      <td>78.0</td>\n",
       "      <td>0.399969</td>\n",
       "      <td>0.300019</td>\n",
       "      <td>0.300012</td>\n",
       "      <td>3. &gt;mu</td>\n",
       "    </tr>\n",
       "    <tr>\n",
       "      <th>79</th>\n",
       "      <td>79.0</td>\n",
       "      <td>0.399973</td>\n",
       "      <td>0.300014</td>\n",
       "      <td>0.300013</td>\n",
       "      <td>3. &gt;mu</td>\n",
       "    </tr>\n",
       "  </tbody>\n",
       "</table>\n",
       "<p>320 rows × 5 columns</p>\n",
       "</div>"
      ],
      "text/plain": [
       "    time         S         I         R     beta\n",
       "0    0.0  0.899918  0.099911  0.000085  1. Real\n",
       "1    1.0  0.774785  0.210153  0.014903  1. Real\n",
       "2    2.0  0.580111  0.376023  0.043994  1. Real\n",
       "3    3.0  0.365106  0.544973  0.090300  1. Real\n",
       "4    4.0  0.199683  0.649799  0.150570  1. Real\n",
       "..   ...       ...       ...       ...      ...\n",
       "75  75.0  0.399957  0.300035  0.300007   3. >mu\n",
       "76  76.0  0.399961  0.300029  0.300010   3. >mu\n",
       "77  77.0  0.399965  0.300024  0.300011   3. >mu\n",
       "78  78.0  0.399969  0.300019  0.300012   3. >mu\n",
       "79  79.0  0.399973  0.300014  0.300013   3. >mu\n",
       "\n",
       "[320 rows x 5 columns]"
      ]
     },
     "execution_count": 73,
     "metadata": {},
     "output_type": "execute_result"
    }
   ],
   "source": [
    "data_df"
   ]
  },
  {
   "cell_type": "code",
   "execution_count": 74,
   "metadata": {},
   "outputs": [
    {
     "data": {
      "image/png": "[encoded data removed]",
      "text/plain": [
       "<Figure size 640x480 with 1 Axes>"
      ]
     },
     "metadata": {
      "needs_background": "light"
     },
     "output_type": "display_data"
    },
    {
     "data": {
      "text/plain": [
       "<ggplot: (386458609)>"
      ]
     },
     "execution_count": 74,
     "metadata": {},
     "output_type": "execute_result"
    }
   ],
   "source": [
    "# \"real\" data and model vs time\n",
    "\n",
    "(ggplot(data_df, aes(x = \"time\", y = \"I\", color = \"beta\")) +\n",
    "    geom_line() +\n",
    "    theme_minimal() +\n",
    "    labs(x = \"time\", y = \"I\")\n",
    ")\n"
   ]
  },
  {
   "cell_type": "markdown",
   "metadata": {},
   "source": [
    "### 3.3. Distance values"
   ]
  },
  {
   "cell_type": "markdown",
   "metadata": {},
   "source": [
    "The distance function takes the data and integrates the model.  \n",
    "Values of $\\beta$ very different from the \"true\" value yield large differences:"
   ]
  },
  {
   "cell_type": "code",
   "execution_count": 62,
   "metadata": {},
   "outputs": [
    {
     "name": "stdout",
     "output_type": "stream",
     "text": [
      "0.5287292717651291\n",
      "0.7137255007021118\n",
      "0.7137255007021118\n"
     ]
    }
   ],
   "source": [
    "# compute distance between data time series and model simulations\n",
    "\n",
    "dist_history = []\n",
    "\n",
    "# small beta\n",
    "beta = 2\n",
    "diff_real_simul_small_beta = dist_fun(beta, real_data[\"I\"], SIR_model, params, y_ini, rk4_step)\n",
    "\n",
    "# equal beta\n",
    "beta = .5\n",
    "gamma = .3\n",
    "diff_real_simul_equal_beta = dist_fun(beta, real_data[\"I\"], SIR_model, params, y_ini, rk4_step)\n",
    "\n",
    "# large beta\n",
    "gamma = 1\n",
    "mu = .5\n",
    "diff_real_simul_large_beta = dist_fun(beta, real_data[\"I\"], SIR_model, params, y_ini, rk4_step)\n",
    "\n",
    "print(diff_real_simul_small_beta)\n",
    "print(diff_real_simul_equal_beta)\n",
    "print(diff_real_simul_large_beta)"
   ]
  },
  {
   "cell_type": "markdown",
   "metadata": {},
   "source": [
    "## 4. The distance landscape (\"brute force\")"
   ]
  },
  {
   "cell_type": "markdown",
   "metadata": {},
   "source": [
    "Let's compute the distance for an array of $\\beta$ values and find the value with minimum distance (i.e. brute force):"
   ]
  },
  {
   "cell_type": "code",
   "execution_count": 11,
   "metadata": {},
   "outputs": [
    {
     "data": {
      "image/png": "[encoded data removed]",
      "text/plain": [
       "<Figure size 640x480 with 1 Axes>"
      ]
     },
     "metadata": {
      "needs_background": "light"
     },
     "output_type": "display_data"
    },
    {
     "data": {
      "text/plain": [
       "<ggplot: (8786427790071)>"
      ]
     },
     "execution_count": 11,
     "metadata": {},
     "output_type": "execute_result"
    }
   ],
   "source": [
    "beta_array = np.linspace(1.5,2.5,51)\n",
    "dist_history = []\n",
    "dist_array = []\n",
    "\n",
    "for beta in beta_array:\n",
    "    dist_array.append(dist_fun(beta, real_data[\"I\"], SIR_model, params, y_ini, rk4_step))\n",
    "\n",
    "dist_landscape_df = arr2df(dist_history,(\"beta\",\"dist\"))\n",
    "\n",
    "# plot\n",
    "(ggplot(dist_landscape_df, aes(x = \"beta\", y = \"dist\")) +\n",
    "    geom_line(color='black') +\n",
    "    theme_minimal() +\n",
    "    labs(x = \"beta\", y = \"distance\")  \n",
    ")\n"
   ]
  },
  {
   "cell_type": "markdown",
   "metadata": {},
   "source": [
    "This plot has many things to discuss. It (correctly) shows a very small distance at the \"true\" value $\\beta=2$, but it has a weird behavior as it is a very steep minimum and there are another, shallower, different minima at around $\\beta=2.5$ and other values. This is probably due to the interaction between the particular distance we chose and the nature of these time series (much time around zero with few large spikes)."
   ]
  },
  {
   "cell_type": "markdown",
   "metadata": {},
   "source": [
    "## 5. Optimization"
   ]
  },
  {
   "cell_type": "markdown",
   "metadata": {},
   "source": [
    "### 5.1. Local optimization"
   ]
  },
  {
   "cell_type": "code",
   "execution_count": 12,
   "metadata": {},
   "outputs": [
    {
     "name": "stdout",
     "output_type": "stream",
     "text": [
      "      fun: 0.08658401810912479\n",
      " hess_inv: <1x1 LbfgsInvHessProduct with dtype=float64>\n",
      "      jac: array([-3.74700273e-08])\n",
      "  message: 'CONVERGENCE: NORM_OF_PROJECTED_GRADIENT_<=_PGTOL'\n",
      "     nfev: 30\n",
      "      nit: 4\n",
      "     njev: 15\n",
      "   status: 0\n",
      "  success: True\n",
      "        x: array([1.73226294])\n"
     ]
    }
   ],
   "source": [
    "# minimize distance function: attempt 1\n",
    "\n",
    "dist_history = []\n",
    "res = minimize(dist_fun, 1.5, bounds=[(1.5, 2.5)], args=(real_data[\"I\"], SIR_model, params, y_ini, rk4_step))\n",
    "dist_history1 = dist_history\n",
    "print(res)"
   ]
  },
  {
   "cell_type": "code",
   "execution_count": 13,
   "metadata": {},
   "outputs": [
    {
     "name": "stdout",
     "output_type": "stream",
     "text": [
      "      fun: 0.07409327946309495\n",
      " hess_inv: <1x1 LbfgsInvHessProduct with dtype=float64>\n",
      "      jac: array([-5.92581543e-07])\n",
      "  message: 'CONVERGENCE: NORM_OF_PROJECTED_GRADIENT_<=_PGTOL'\n",
      "     nfev: 18\n",
      "      nit: 4\n",
      "     njev: 9\n",
      "   status: 0\n",
      "  success: True\n",
      "        x: array([2.26421241])\n"
     ]
    }
   ],
   "source": [
    "# minimize distance function: attempt 2\n",
    "\n",
    "dist_history = []\n",
    "res = minimize(dist_fun, 2.15, bounds=[(1.5, 2.5)], args=(real_data[\"I\"], SIR_model, params, y_ini, rk4_step))\n",
    "dist_history2 = dist_history\n",
    "print(res)"
   ]
  },
  {
   "cell_type": "code",
   "execution_count": 14,
   "metadata": {},
   "outputs": [
    {
     "name": "stdout",
     "output_type": "stream",
     "text": [
      "      fun: 0.0030240254889925687\n",
      " hess_inv: <1x1 LbfgsInvHessProduct with dtype=float64>\n",
      "      jac: array([1.52320431e-05])\n",
      "  message: 'CONVERGENCE: REL_REDUCTION_OF_F_<=_FACTR*EPSMCH'\n",
      "     nfev: 18\n",
      "      nit: 3\n",
      "     njev: 9\n",
      "   status: 0\n",
      "  success: True\n",
      "        x: array([2.00004814])\n"
     ]
    }
   ],
   "source": [
    "# minimize distance function: attempt 3\n",
    "\n",
    "dist_history = []\n",
    "res = minimize(dist_fun, 1.93, bounds=[(1.5, 2.5)], args=(real_data[\"I\"], SIR_model, params, y_ini, rk4_step))\n",
    "dist_history3 = dist_history\n",
    "print(res)"
   ]
  },
  {
   "cell_type": "code",
   "execution_count": 15,
   "metadata": {},
   "outputs": [
    {
     "data": {
      "image/png": "[encoded data removed]",
      "text/plain": [
       "<Figure size 640x480 with 1 Axes>"
      ]
     },
     "metadata": {
      "needs_background": "light"
     },
     "output_type": "display_data"
    },
    {
     "data": {
      "text/plain": [
       "<ggplot: (8786427733489)>"
      ]
     },
     "execution_count": 15,
     "metadata": {},
     "output_type": "execute_result"
    }
   ],
   "source": [
    "# plot with parameter trace\n",
    "\n",
    "dist_df_orig = dist_landscape_df\n",
    "dist_df_orig[\"type\"] = \"1. Landscape\"\n",
    "\n",
    "dist_df_find1 = arr2df(dist_history1,(\"beta\",\"dist\"))\n",
    "dist_df_find1[\"type\"] = \"2. Search A\"\n",
    "\n",
    "dist_df_find2 = arr2df(dist_history2,(\"beta\",\"dist\"))\n",
    "dist_df_find2[\"type\"] = \"3. Search B\"\n",
    "\n",
    "dist_df_find3 = arr2df(dist_history3,(\"beta\",\"dist\"))\n",
    "dist_df_find3[\"type\"] = \"4. Search C\"\n",
    "\n",
    "dist_df = pd.concat([dist_df_orig, dist_df_find1, dist_df_find2, dist_df_find3])\n",
    "\n",
    "(ggplot(dist_df, aes(x = \"beta\", y = \"dist\", color = \"type\")) +\n",
    "#    geom_line(color='black') +\n",
    "    geom_line() +\n",
    "    geom_point(dist_df_find1) +\n",
    "    geom_point(dist_df_find2) +\n",
    "    geom_point(dist_df_find3) +\n",
    "    theme_minimal() +\n",
    "    labs(x = \"beta\", y = \"distance\")  \n",
    ")\n"
   ]
  },
  {
   "cell_type": "markdown",
   "metadata": {},
   "source": [
    "Local optimization can miss the global minimum altogether if it starts at the wrong side. Problem: in a large system (optimization of many parameters simultaneously) it is impossible to know in advance what the correct side is."
   ]
  },
  {
   "cell_type": "markdown",
   "metadata": {},
   "source": [
    "### 5.2 Global optimization"
   ]
  },
  {
   "cell_type": "markdown",
   "metadata": {},
   "source": [
    "#### 5.2.a. Basin hopping"
   ]
  },
  {
   "cell_type": "code",
   "execution_count": 16,
   "metadata": {},
   "outputs": [
    {
     "name": "stdout",
     "output_type": "stream",
     "text": [
      "                        fun: 0.0030240254889990744\n",
      " lowest_optimization_result:       fun: 0.0030240254889990744\n",
      " hess_inv: <1x1 LbfgsInvHessProduct with dtype=float64>\n",
      "      jac: array([8.37897465e-06])\n",
      "  message: 'CONVERGENCE: NORM_OF_PROJECTED_GRADIENT_<=_PGTOL'\n",
      "     nfev: 34\n",
      "      nit: 6\n",
      "     njev: 17\n",
      "   status: 0\n",
      "  success: True\n",
      "        x: array([2.00004814])\n",
      "                    message: ['requested number of basinhopping iterations completed successfully']\n",
      "      minimization_failures: 0\n",
      "                       nfev: 418\n",
      "                        nit: 20\n",
      "                       njev: 209\n",
      "                          x: array([2.00004814])\n"
     ]
    }
   ],
   "source": [
    "dist_history = []\n",
    "t_ini = perf_counter()\n",
    "res_bh = basinhopping(dist_fun, 1.5, niter=20, minimizer_kwargs={\"bounds\":[(1.5, 2.5)], \"args\":(real_data[\"I\"], SIR_model, params, y_ini, rk4_step)})\n",
    "t_bh = perf_counter() - t_ini\n",
    "dist_history_bh = dist_history\n",
    "print(res_bh)"
   ]
  },
  {
   "cell_type": "markdown",
   "metadata": {},
   "source": [
    "#### 5.2.b. Differential evolution"
   ]
  },
  {
   "cell_type": "code",
   "execution_count": 17,
   "metadata": {},
   "outputs": [
    {
     "name": "stdout",
     "output_type": "stream",
     "text": [
      "     fun: 0.0030240254889924868\n",
      "     jac: array([1.49348416e-05])\n",
      " message: 'Optimization terminated successfully.'\n",
      "    nfev: 252\n",
      "     nit: 15\n",
      " success: True\n",
      "       x: array([2.00004814])\n"
     ]
    }
   ],
   "source": [
    "dist_history = []\n",
    "t_ini = perf_counter()\n",
    "res_de = differential_evolution(dist_fun, [(1.5, 2.5)], args=(real_data[\"I\"], SIR_model, params, y_ini, rk4_step))\n",
    "t_de = perf_counter() - t_ini\n",
    "dist_history_de = dist_history\n",
    "print(res_de)"
   ]
  },
  {
   "cell_type": "markdown",
   "metadata": {},
   "source": [
    "#### 5.2.c. Dual annealing"
   ]
  },
  {
   "cell_type": "code",
   "execution_count": 18,
   "metadata": {},
   "outputs": [
    {
     "name": "stdout",
     "output_type": "stream",
     "text": [
      "     fun: 0.0030240254889934044\n",
      " message: ['Maximum number of iteration reached']\n",
      "    nfev: 99\n",
      "    nhev: 0\n",
      "     nit: 20\n",
      "    njev: 29\n",
      "  status: 0\n",
      " success: True\n",
      "       x: array([2.00004814])\n"
     ]
    }
   ],
   "source": [
    "dist_history = []\n",
    "t_ini = perf_counter()\n",
    "res_da = dual_annealing(dist_fun, bounds=[(1.5, 2.5)], maxiter=20, args=(real_data[\"I\"], SIR_model, params, y_ini, rk4_step))\n",
    "t_da = perf_counter() - t_ini\n",
    "dist_history_da = dist_history\n",
    "print(res_da)"
   ]
  },
  {
   "cell_type": "code",
   "execution_count": 19,
   "metadata": {},
   "outputs": [
    {
     "data": {
      "image/png": "[encoded data removed]",
      "text/plain": [
       "<Figure size 640x480 with 1 Axes>"
      ]
     },
     "metadata": {
      "needs_background": "light"
     },
     "output_type": "display_data"
    },
    {
     "name": "stdout",
     "output_type": "stream",
     "text": [
      "\n"
     ]
    },
    {
     "data": {
      "text/html": [
       "<div>\n",
       "<style scoped>\n",
       "    .dataframe tbody tr th:only-of-type {\n",
       "        vertical-align: middle;\n",
       "    }\n",
       "\n",
       "    .dataframe tbody tr th {\n",
       "        vertical-align: top;\n",
       "    }\n",
       "\n",
       "    .dataframe thead th {\n",
       "        text-align: right;\n",
       "    }\n",
       "</style>\n",
       "<table border=\"1\" class=\"dataframe\">\n",
       "  <thead>\n",
       "    <tr style=\"text-align: right;\">\n",
       "      <th></th>\n",
       "      <th>method</th>\n",
       "      <th>elapsed time</th>\n",
       "      <th>param</th>\n",
       "    </tr>\n",
       "  </thead>\n",
       "  <tbody>\n",
       "    <tr>\n",
       "      <th>0</th>\n",
       "      <td>Basin hopping</td>\n",
       "      <td>20.452471</td>\n",
       "      <td>2.000048</td>\n",
       "    </tr>\n",
       "    <tr>\n",
       "      <th>1</th>\n",
       "      <td>Differential evolution</td>\n",
       "      <td>12.702410</td>\n",
       "      <td>2.000048</td>\n",
       "    </tr>\n",
       "    <tr>\n",
       "      <th>2</th>\n",
       "      <td>Dual annealing</td>\n",
       "      <td>5.066358</td>\n",
       "      <td>2.000048</td>\n",
       "    </tr>\n",
       "  </tbody>\n",
       "</table>\n",
       "</div>"
      ],
      "text/plain": [
       "                   method  elapsed time     param\n",
       "0           Basin hopping     20.452471  2.000048\n",
       "1  Differential evolution     12.702410  2.000048\n",
       "2          Dual annealing      5.066358  2.000048"
      ]
     },
     "execution_count": 19,
     "metadata": {},
     "output_type": "execute_result"
    }
   ],
   "source": [
    "# plot with parameter trace\n",
    "\n",
    "dist_df_orig = dist_landscape_df\n",
    "dist_df_orig[\"type\"] = \"1. Landscape\"\n",
    "\n",
    "dist_df_find_bh = arr2df(dist_history_bh,(\"beta\",\"dist\"))\n",
    "dist_df_find_bh[\"type\"] = \"2. Basin hopping\"\n",
    "\n",
    "dist_df_find_de = arr2df(dist_history_bh,(\"beta\",\"dist\"))\n",
    "dist_df_find_de[\"type\"] = \"3. Differential evolution\"\n",
    "\n",
    "dist_df_find_da = arr2df(dist_history_bh,(\"beta\",\"dist\"))\n",
    "dist_df_find_da[\"type\"] = \"4. Dual annealing\"\n",
    "\n",
    "dist_df = pd.concat([dist_df_orig, dist_df_find_bh, dist_df_find_de, dist_df_find_da])\n",
    "results_df = pd.DataFrame({\"method\": [\"Basin hopping\", \"Differential evolution\", \"Dual annealing\"], \"elapsed time\": [t_bh, t_de, t_da], \"param\": [res_bh[\"x\"][0], res_de[\"x\"][0], res_da[\"x\"][0]]})\n",
    "\n",
    "p1 = (ggplot(dist_df, aes(x = \"beta\", y = \"dist\", color = \"type\")) +\n",
    "#    geom_line(color='black') +\n",
    "    geom_line() +\n",
    "    geom_point(dist_df_find_bh) +\n",
    "    geom_point(dist_df_find_de) +\n",
    "    geom_point(dist_df_find_da) +\n",
    "    theme_minimal() +\n",
    "    labs(x = \"beta\", y = \"distance\")  \n",
    ")\n",
    "print(p1)\n",
    "results_df\n"
   ]
  },
  {
   "cell_type": "markdown",
   "metadata": {},
   "source": [
    "Global optimizers (other than brute force) find the correct solution without trying all possibilities. Which the best optimizer is depends on the problem at hand."
   ]
  },
  {
   "cell_type": "markdown",
   "metadata": {},
   "source": [
    "## 6. Optimization of two parameters"
   ]
  },
  {
   "cell_type": "markdown",
   "metadata": {},
   "source": [
    "### 6.1. Distance landscape as a function of two parameters"
   ]
  },
  {
   "cell_type": "code",
   "execution_count": 20,
   "metadata": {},
   "outputs": [
    {
     "data": {
      "text/html": [
       "<div>\n",
       "<style scoped>\n",
       "    .dataframe tbody tr th:only-of-type {\n",
       "        vertical-align: middle;\n",
       "    }\n",
       "\n",
       "    .dataframe tbody tr th {\n",
       "        vertical-align: top;\n",
       "    }\n",
       "\n",
       "    .dataframe thead th {\n",
       "        text-align: right;\n",
       "    }\n",
       "</style>\n",
       "<table border=\"1\" class=\"dataframe\">\n",
       "  <thead>\n",
       "    <tr style=\"text-align: right;\">\n",
       "      <th></th>\n",
       "      <th>beta</th>\n",
       "      <th>gamma</th>\n",
       "      <th>dist</th>\n",
       "    </tr>\n",
       "  </thead>\n",
       "  <tbody>\n",
       "    <tr>\n",
       "      <th>0</th>\n",
       "      <td>1.5</td>\n",
       "      <td>0.250</td>\n",
       "      <td>0.093058</td>\n",
       "    </tr>\n",
       "    <tr>\n",
       "      <th>1</th>\n",
       "      <td>1.5</td>\n",
       "      <td>0.275</td>\n",
       "      <td>0.082475</td>\n",
       "    </tr>\n",
       "    <tr>\n",
       "      <th>2</th>\n",
       "      <td>1.5</td>\n",
       "      <td>0.300</td>\n",
       "      <td>0.079077</td>\n",
       "    </tr>\n",
       "    <tr>\n",
       "      <th>3</th>\n",
       "      <td>1.5</td>\n",
       "      <td>0.325</td>\n",
       "      <td>0.084724</td>\n",
       "    </tr>\n",
       "    <tr>\n",
       "      <th>4</th>\n",
       "      <td>1.5</td>\n",
       "      <td>0.350</td>\n",
       "      <td>0.088394</td>\n",
       "    </tr>\n",
       "    <tr>\n",
       "      <th>...</th>\n",
       "      <td>...</td>\n",
       "      <td>...</td>\n",
       "      <td>...</td>\n",
       "    </tr>\n",
       "    <tr>\n",
       "      <th>436</th>\n",
       "      <td>2.5</td>\n",
       "      <td>0.650</td>\n",
       "      <td>0.080774</td>\n",
       "    </tr>\n",
       "    <tr>\n",
       "      <th>437</th>\n",
       "      <td>2.5</td>\n",
       "      <td>0.675</td>\n",
       "      <td>0.083460</td>\n",
       "    </tr>\n",
       "    <tr>\n",
       "      <th>438</th>\n",
       "      <td>2.5</td>\n",
       "      <td>0.700</td>\n",
       "      <td>0.085936</td>\n",
       "    </tr>\n",
       "    <tr>\n",
       "      <th>439</th>\n",
       "      <td>2.5</td>\n",
       "      <td>0.725</td>\n",
       "      <td>0.078873</td>\n",
       "    </tr>\n",
       "    <tr>\n",
       "      <th>440</th>\n",
       "      <td>2.5</td>\n",
       "      <td>0.750</td>\n",
       "      <td>0.083189</td>\n",
       "    </tr>\n",
       "  </tbody>\n",
       "</table>\n",
       "<p>441 rows × 3 columns</p>\n",
       "</div>"
      ],
      "text/plain": [
       "     beta  gamma      dist\n",
       "0     1.5  0.250  0.093058\n",
       "1     1.5  0.275  0.082475\n",
       "2     1.5  0.300  0.079077\n",
       "3     1.5  0.325  0.084724\n",
       "4     1.5  0.350  0.088394\n",
       "..    ...    ...       ...\n",
       "436   2.5  0.650  0.080774\n",
       "437   2.5  0.675  0.083460\n",
       "438   2.5  0.700  0.085936\n",
       "439   2.5  0.725  0.078873\n",
       "440   2.5  0.750  0.083189\n",
       "\n",
       "[441 rows x 3 columns]"
      ]
     },
     "execution_count": 20,
     "metadata": {},
     "output_type": "execute_result"
    }
   ],
   "source": [
    "beta_array = np.linspace(1.5,2.5,21)\n",
    "gamma_array = np.linspace(0.25,0.75,21)\n",
    "\n",
    "dist_array = []\n",
    "dist_history = []\n",
    "\n",
    "for beta in beta_array:\n",
    "    for gamma in gamma_array:\n",
    "        fit_par = [beta, gamma]\n",
    "        dist_value = dist_fun(fit_par, real_data[\"I\"], SIR_model, params, y_ini, rk4_step)\n",
    "        dist_array.append(fit_par + [dist_value])\n",
    "\n",
    "dist_landscape_df = arr2df(dist_history,(\"beta\",\"gamma\",\"dist\"))\n",
    "dist_landscape_df"
   ]
  },
  {
   "cell_type": "markdown",
   "metadata": {},
   "source": [
    "Global minimum of distance occurs at default parameter values (by design):"
   ]
  },
  {
   "cell_type": "code",
   "execution_count": 21,
   "metadata": {},
   "outputs": [
    {
     "data": {
      "text/html": [
       "<div>\n",
       "<style scoped>\n",
       "    .dataframe tbody tr th:only-of-type {\n",
       "        vertical-align: middle;\n",
       "    }\n",
       "\n",
       "    .dataframe tbody tr th {\n",
       "        vertical-align: top;\n",
       "    }\n",
       "\n",
       "    .dataframe thead th {\n",
       "        text-align: right;\n",
       "    }\n",
       "</style>\n",
       "<table border=\"1\" class=\"dataframe\">\n",
       "  <thead>\n",
       "    <tr style=\"text-align: right;\">\n",
       "      <th></th>\n",
       "      <th>beta</th>\n",
       "      <th>gamma</th>\n",
       "      <th>dist</th>\n",
       "    </tr>\n",
       "  </thead>\n",
       "  <tbody>\n",
       "    <tr>\n",
       "      <th>220</th>\n",
       "      <td>2.0</td>\n",
       "      <td>0.5</td>\n",
       "      <td>0.003027</td>\n",
       "    </tr>\n",
       "  </tbody>\n",
       "</table>\n",
       "</div>"
      ],
      "text/plain": [
       "     beta  gamma      dist\n",
       "220   2.0    0.5  0.003027"
      ]
     },
     "execution_count": 21,
     "metadata": {},
     "output_type": "execute_result"
    }
   ],
   "source": [
    "min_dist = dist_landscape_df[dist_landscape_df[\"dist\"]==dist_landscape_df.min()[\"dist\"]]\n",
    "min_dist"
   ]
  },
  {
   "cell_type": "code",
   "execution_count": 22,
   "metadata": {},
   "outputs": [
    {
     "data": {
      "text/plain": [
       "Text(0, 0.5, 'dist (gamma=0.5)')"
      ]
     },
     "execution_count": 22,
     "metadata": {},
     "output_type": "execute_result"
    },
    {
     "data": {
      "image/png": "[encoded data removed]",
      "text/plain": [
       "<Figure size 720x360 with 2 Axes>"
      ]
     },
     "metadata": {
      "needs_background": "light"
     },
     "output_type": "display_data"
    }
   ],
   "source": [
    "# 3D plot\n",
    "X = pd.unique(dist_landscape_df[\"beta\"])\n",
    "Y = pd.unique(dist_landscape_df[\"gamma\"])\n",
    "X, Y = np.meshgrid(X, Y)\n",
    "Z = dist_landscape_df.pivot(index=\"gamma\", columns=\"beta\", values=\"dist\")\n",
    "\n",
    "# 2D section\n",
    "x0 = np.asarray(Z.loc[0.5].index)\n",
    "y0 = Z.loc[0.5].values\n",
    "\n",
    "\n",
    "fig = plt.figure()\n",
    "fig.set_size_inches(10, 5, forward=True)\n",
    "ax1 = fig.add_subplot(1, 10, (1, 6), projection='3d')\n",
    "ax1.plot_surface(X, Y, Z, cmap=cm.coolwarm,\n",
    "                       linewidth=0, antialiased=False)\n",
    "\n",
    "ax2 = fig.add_subplot(1, 10, (8, 10))\n",
    "ax2.plot(x0, y0)\n",
    "ax2.set_xlabel(\"beta\")\n",
    "ax2.set_ylabel(\"dist (gamma=0.5)\")\n",
    "#fig.show()\n"
   ]
  },
  {
   "cell_type": "markdown",
   "metadata": {},
   "source": [
    "### 6.2. Actual fitting"
   ]
  },
  {
   "cell_type": "code",
   "execution_count": 23,
   "metadata": {},
   "outputs": [],
   "source": [
    "beta_bounds = (1.5, 2.5)\n",
    "gamma_bounds = (0.25, 0.75)"
   ]
  },
  {
   "cell_type": "markdown",
   "metadata": {},
   "source": [
    "#### 6.2.a. Basin hopping"
   ]
  },
  {
   "cell_type": "code",
   "execution_count": 24,
   "metadata": {},
   "outputs": [
    {
     "name": "stdout",
     "output_type": "stream",
     "text": [
      "                        fun: 0.003023945286216229\n",
      " lowest_optimization_result:       fun: 0.003023945286216229\n",
      " hess_inv: <2x2 LbfgsInvHessProduct with dtype=float64>\n",
      "      jac: array([ 0.00016387, -0.00051377])\n",
      "  message: 'CONVERGENCE: REL_REDUCTION_OF_F_<=_FACTR*EPSMCH'\n",
      "     nfev: 132\n",
      "      nit: 19\n",
      "     njev: 44\n",
      "   status: 0\n",
      "  success: True\n",
      "        x: array([2.00059351, 0.50013897])\n",
      "                    message: ['requested number of basinhopping iterations completed successfully']\n",
      "      minimization_failures: 0\n",
      "                       nfev: 1659\n",
      "                        nit: 20\n",
      "                       njev: 553\n",
      "                          x: array([2.00059351, 0.50013897])\n"
     ]
    }
   ],
   "source": [
    "dist_history = []\n",
    "t_ini = perf_counter()\n",
    "res_bh2 = basinhopping(dist_fun, [1.5, 0.25], niter=20, minimizer_kwargs={\"bounds\":[beta_bounds, gamma_bounds], \"args\":(real_data[\"I\"], SIR_model, params, y_ini, rk4_step)})\n",
    "t_bh2 = perf_counter() - t_ini\n",
    "dist_history_bh2 = dist_history\n",
    "print(res_bh2)"
   ]
  },
  {
   "cell_type": "markdown",
   "metadata": {},
   "source": [
    "#### 6.2.b. Differential evolution"
   ]
  },
  {
   "cell_type": "code",
   "execution_count": 25,
   "metadata": {},
   "outputs": [
    {
     "name": "stdout",
     "output_type": "stream",
     "text": [
      "     fun: 0.0030239487467443463\n",
      "     jac: array([ 0.00038434, -0.00148185])\n",
      " message: 'Optimization terminated successfully.'\n",
      "    nfev: 894\n",
      "     nit: 27\n",
      " success: True\n",
      "       x: array([2.00052742, 0.50012211])\n"
     ]
    }
   ],
   "source": [
    "dist_history = []\n",
    "t_ini = perf_counter()\n",
    "res_de2 = differential_evolution(dist_fun, [beta_bounds, gamma_bounds], args=(real_data[\"I\"], SIR_model, params, y_ini, rk4_step))\n",
    "t_de2 = perf_counter() - t_ini\n",
    "dist_history_de2 = dist_history\n",
    "print(res_de2)"
   ]
  },
  {
   "cell_type": "markdown",
   "metadata": {},
   "source": [
    "#### 6.2.c. Dual annealing"
   ]
  },
  {
   "cell_type": "code",
   "execution_count": 26,
   "metadata": {},
   "outputs": [
    {
     "name": "stdout",
     "output_type": "stream",
     "text": [
      "     fun: 0.0619553636589715\n",
      " message: ['Maximum number of iteration reached']\n",
      "    nfev: 198\n",
      "    nhev: 0\n",
      "     nit: 20\n",
      "    njev: 39\n",
      "  status: 0\n",
      " success: True\n",
      "       x: array([1.6060399 , 0.60708501])\n"
     ]
    }
   ],
   "source": [
    "dist_history = []\n",
    "t_ini = perf_counter()\n",
    "res_da2 = dual_annealing(dist_fun, bounds=[beta_bounds, gamma_bounds], maxiter=20, args=(real_data[\"I\"], SIR_model, params, y_ini, rk4_step))\n",
    "t_da2 = perf_counter() - t_ini\n",
    "dist_history_da2 = dist_history\n",
    "print(res_da2)"
   ]
  },
  {
   "cell_type": "code",
   "execution_count": 27,
   "metadata": {},
   "outputs": [
    {
     "data": {
      "text/html": [
       "<div>\n",
       "<style scoped>\n",
       "    .dataframe tbody tr th:only-of-type {\n",
       "        vertical-align: middle;\n",
       "    }\n",
       "\n",
       "    .dataframe tbody tr th {\n",
       "        vertical-align: top;\n",
       "    }\n",
       "\n",
       "    .dataframe thead th {\n",
       "        text-align: right;\n",
       "    }\n",
       "</style>\n",
       "<table border=\"1\" class=\"dataframe\">\n",
       "  <thead>\n",
       "    <tr style=\"text-align: right;\">\n",
       "      <th></th>\n",
       "      <th>method</th>\n",
       "      <th>elapsed time</th>\n",
       "      <th>beta</th>\n",
       "      <th>gamma</th>\n",
       "    </tr>\n",
       "  </thead>\n",
       "  <tbody>\n",
       "    <tr>\n",
       "      <th>0</th>\n",
       "      <td>Basin hopping</td>\n",
       "      <td>81.727413</td>\n",
       "      <td>2.000594</td>\n",
       "      <td>0.500139</td>\n",
       "    </tr>\n",
       "    <tr>\n",
       "      <th>1</th>\n",
       "      <td>Differential evolution</td>\n",
       "      <td>44.885850</td>\n",
       "      <td>2.000527</td>\n",
       "      <td>0.500122</td>\n",
       "    </tr>\n",
       "    <tr>\n",
       "      <th>2</th>\n",
       "      <td>Dual annealing</td>\n",
       "      <td>10.249790</td>\n",
       "      <td>1.606040</td>\n",
       "      <td>0.607085</td>\n",
       "    </tr>\n",
       "  </tbody>\n",
       "</table>\n",
       "</div>"
      ],
      "text/plain": [
       "                   method  elapsed time      beta     gamma\n",
       "0           Basin hopping     81.727413  2.000594  0.500139\n",
       "1  Differential evolution     44.885850  2.000527  0.500122\n",
       "2          Dual annealing     10.249790  1.606040  0.607085"
      ]
     },
     "execution_count": 27,
     "metadata": {},
     "output_type": "execute_result"
    }
   ],
   "source": [
    "results2_df = pd.DataFrame({\"method\": [\"Basin hopping\", \"Differential evolution\", \"Dual annealing\"], \"elapsed time\": [t_bh2, t_de2, t_da2], \"beta\": [res_bh2[\"x\"][0], res_de2[\"x\"][0], res_da2[\"x\"][0]], \"gamma\": [res_bh2[\"x\"][1], res_de2[\"x\"][1], res_da2[\"x\"][1]]})\n",
    "results2_df"
   ]
  },
  {
   "cell_type": "code",
   "execution_count": null,
   "metadata": {},
   "outputs": [],
   "source": []
  }
 ],
 "metadata": {
  "kernelspec": {
   "display_name": "Python 3 (ipykernel)",
   "language": "python",
   "name": "python3"
  },
  "language_info": {
   "codemirror_mode": {
    "name": "ipython",
    "version": 3
   },
   "file_extension": ".py",
   "mimetype": "text/x-python",
   "name": "python",
   "nbconvert_exporter": "python",
   "pygments_lexer": "ipython3",
   "version": "3.9.12"
  },
  "vscode": {
   "interpreter": {
    "hash": "610c2095a371a3e2ae1db886c17078fb15bee626441bcf4cc9bc1fd7182e248d"
   }
  }
 },
 "nbformat": 4,
 "nbformat_minor": 2
}
